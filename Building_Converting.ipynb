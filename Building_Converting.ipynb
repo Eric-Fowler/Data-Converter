{
 "cells": [
  {
   "cell_type": "code",
   "execution_count": 2,
   "metadata": {},
   "outputs": [],
   "source": [
    "import numpy as np\n",
    "import ReadIM\n",
    "import matplotlib.pyplot as plt\n",
    "import os\n",
    "import sys\n",
    "import easygui\n",
    "import pandas as pd\n",
    "from easygui import *"
   ]
  },
  {
   "cell_type": "code",
   "execution_count": 16,
   "metadata": {},
   "outputs": [],
   "source": [
    "from Building_Functions import *"
   ]
  },
  {
   "cell_type": "code",
   "execution_count": 12,
   "metadata": {},
   "outputs": [
    {
     "name": "stdout",
     "output_type": "stream",
     "text": [
      "C:\\Users\\eric.fowler\\Desktop\\Data-Converter\\B00001_Avg V_16.VC7\n"
     ]
    }
   ],
   "source": [
    "file_loc = None\n",
    "answer = \"Select File\"\n",
    "while answer == \"Select File\":\n",
    "    answer = msgbox(\"Select a file\", ok_button=\"Select File\")\n",
    "    file_loc = fileopenbox()\n",
    "    if file_loc is None:\n",
    "        pass\n",
    "    else:\n",
    "        answer = \"close\"\n",
    "print(file_loc)\n",
    "#we now have our file\n"
   ]
  },
  {
   "cell_type": "code",
   "execution_count": 19,
   "metadata": {},
   "outputs": [
    {
     "name": "stdout",
     "output_type": "stream",
     "text": [
      "[2, 256, 256]\n",
      "2\n"
     ]
    }
   ],
   "source": [
    "data_mat,attributes,shape,n_figures = data_pull(file_loc)"
   ]
  },
  {
   "cell_type": "code",
   "execution_count": 14,
   "metadata": {},
   "outputs": [],
   "source": [
    "running = True\n",
    "while running is True:\n",
    "    buttonbox(msg=\"Perform Data Operations\",title=\"Data Tools\",choices)"
   ]
  },
  {
   "cell_type": "code",
   "execution_count": 3,
   "metadata": {},
   "outputs": [],
   "source": [
    "# try:\n",
    "#     print(file_loc)\n",
    "# except:\n",
    "#     file_loc = easygui.fileopenbox()\n",
    "#     print(file_loc)"
   ]
  }
 ],
 "metadata": {
  "interpreter": {
   "hash": "fa59af6919e5c0fdc07b22b932b1a3e33ea85213eb7ff3a493f53ee800790bb6"
  },
  "kernelspec": {
   "display_name": "Python 3.8.12 ('deepxde')",
   "language": "python",
   "name": "python3"
  },
  "language_info": {
   "codemirror_mode": {
    "name": "ipython",
    "version": 3
   },
   "file_extension": ".py",
   "mimetype": "text/x-python",
   "name": "python",
   "nbconvert_exporter": "python",
   "pygments_lexer": "ipython3",
   "version": "3.8.12"
  },
  "orig_nbformat": 4
 },
 "nbformat": 4,
 "nbformat_minor": 2
}
